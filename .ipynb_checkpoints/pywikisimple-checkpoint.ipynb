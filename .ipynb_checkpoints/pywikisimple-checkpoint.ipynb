{
 "cells": [
  {
   "cell_type": "markdown",
   "metadata": {},
   "source": [
    "jupyter/python3 adaptation of [https://wiki.python.org/moin/SimplePrograms](https://wiki.python.org/moin/SimplePrograms) <br>\n",
    "it is not a real python3 rewrite, i modified the codes until they worked."
   ]
  },
  {
   "cell_type": "markdown",
   "metadata": {},
   "source": [
    "1 line: Output "
   ]
  },
  {
   "cell_type": "code",
   "execution_count": 2,
   "metadata": {
    "collapsed": true
   },
   "outputs": [
    {
     "name": "stdout",
     "output_type": "stream",
     "text": [
      "Hello, world!\n"
     ]
    }
   ],
   "source": [
    "print('Hello, world!')"
   ]
  },
  {
   "cell_type": "markdown",
   "metadata": {},
   "source": [
    "2 lines: Input, assignment "
   ]
  },
  {
   "cell_type": "code",
   "execution_count": 25,
   "metadata": {
    "collapsed": true
   },
   "outputs": [
    {
     "name": "stdout",
     "output_type": "stream",
     "text": [
      "What is your name?\n",
      "asd\n",
      "Hi, asd!\n",
      "Hi, asd!\n"
     ]
    }
   ],
   "source": [
    "name=input('What is your name?\\n')\n",
    "print('Hi, %s!'%name,)\n",
    "#print('Hi, {name}!'.format(name=name))\n",
    "#print('Hi, %s!'%name,' I am %s.'%''.join(reversed(name)))"
   ]
  },
  {
   "cell_type": "markdown",
   "metadata": {},
   "source": [
    "3 lines: For loop, built-in enumerate function, new style formatting "
   ]
  },
  {
   "cell_type": "code",
   "execution_count": 21,
   "metadata": {
    "collapsed": true
   },
   "outputs": [
    {
     "name": "stdout",
     "output_type": "stream",
     "text": [
      "iteration 0 is john\n",
      "iteration 1 is pat\n",
      "iteration 2 is gary\n",
      "iteration 3 is michael\n"
     ]
    }
   ],
   "source": [
    "# 0 based lists\n",
    "friends = ['john', 'pat', 'gary', 'michael']\n",
    "for i, name in enumerate(friends):\n",
    "    print(\"iteration {idx} is {name}\".format(idx=i, name=name))"
   ]
  },
  {
   "cell_type": "markdown",
   "metadata": {},
   "source": [
    "4 lines: Fibonacci, tuple assignment "
   ]
  },
  {
   "cell_type": "code",
   "execution_count": 31,
   "metadata": {
    "collapsed": true
   },
   "outputs": [
    {
     "name": "stdout",
     "output_type": "stream",
     "text": [
      "This generation has 1 babies\n",
      "This generation has 2 babies\n",
      "This generation has 3 babies\n",
      "This generation has 5 babies\n",
      "This generation has 8 babies\n",
      "This generation has 13 babies\n",
      "This generation has 21 babies\n",
      "This generation has 34 babies\n",
      "This generation has 55 babies\n",
      "This generation has 89 babies\n"
     ]
    }
   ],
   "source": [
    "parents, babies = 1, 1\n",
    "while babies < 100:\n",
    "    print('This generation has {0} babies'.format(babies))\n",
    "#    print('This generation has {0} babies, instead of {1}'.format(babies,parents))\n",
    "#    print('This generation has {num} babies'.format(num=babies))\n",
    "    parents, babies = babies, parents + babies"
   ]
  },
  {
   "cell_type": "markdown",
   "metadata": {},
   "source": [
    "5 lines: Functions "
   ]
  },
  {
   "cell_type": "code",
   "execution_count": 36,
   "metadata": {
    "collapsed": true
   },
   "outputs": [
    {
     "name": "stdout",
     "output_type": "stream",
     "text": [
      "Hello Jack !\n",
      "Hello Jill !\n",
      "Hello Bob !\n"
     ]
    }
   ],
   "source": [
    "def greet(name):\n",
    "    print('Hello',name,'!')\n",
    "greet('Jack')\n",
    "greet('Jill')\n",
    "greet('Bob')"
   ]
  },
  {
   "cell_type": "markdown",
   "metadata": {},
   "source": [
    "6 lines: Import, regular expressions "
   ]
  },
  {
   "cell_type": "code",
   "execution_count": 39,
   "metadata": {
    "collapsed": true
   },
   "outputs": [
    {
     "name": "stdout",
     "output_type": "stream",
     "text": [
      "555-1212 is a valid US local phone number\n",
      "ILL-EGAL rejected\n",
      "4650450 rejected\n"
     ]
    }
   ],
   "source": [
    "import re\n",
    "for test_string in ['555-1212', 'ILL-EGAL','4650450']:\n",
    "    if re.match(r'^\\d{3}-\\d{4}$', test_string):\n",
    "        print(test_string, 'is a valid US local phone number')\n",
    "    else:\n",
    "        print(test_string, 'rejected')"
   ]
  },
  {
   "cell_type": "markdown",
   "metadata": {},
   "source": [
    "7 lines: Dictionaries, generator expressions "
   ]
  },
  {
   "cell_type": "code",
   "execution_count": 40,
   "metadata": {
    "collapsed": true
   },
   "outputs": [
    {
     "name": "stdout",
     "output_type": "stream",
     "text": [
      "I owe the grocer $3.40\n"
     ]
    }
   ],
   "source": [
    "prices = {'apple': 0.40, 'banana': 0.50}\n",
    "my_purchase = {\n",
    "    'apple': 1,\n",
    "    'banana': 6}\n",
    "grocery_bill = sum(prices[fruit] * my_purchase[fruit]\n",
    "                   for fruit in my_purchase)\n",
    "print('I owe the grocer $%.2f'%grocery_bill)"
   ]
  },
  {
   "cell_type": "markdown",
   "metadata": {},
   "source": [
    "8 lines: Command line arguments, exception handling"
   ]
  },
  {
   "cell_type": "code",
   "execution_count": 48,
   "metadata": {
    "collapsed": true
   },
   "outputs": [
    {
     "name": "stdout",
     "output_type": "stream",
     "text": [
      "Please supply integer arguments\n"
     ]
    }
   ],
   "source": [
    "# This program adds up integers in the command line\n",
    "import sys\n",
    "try:\n",
    "    total = sum(int(arg) for arg in sys.argv[1:])\n",
    "    print('sum =', total)\n",
    "except ValueError:\n",
    "    print('Please supply integer arguments')"
   ]
  },
  {
   "cell_type": "code",
   "execution_count": 50,
   "metadata": {
    "collapsed": true
   },
   "outputs": [
    {
     "name": "stdout",
     "output_type": "stream",
     "text": [
      "sum = 6\r\n"
     ]
    }
   ],
   "source": [
    "# workaround for the previous\n",
    "!python3 8.py 1 2 3"
   ]
  },
  {
   "cell_type": "markdown",
   "metadata": {},
   "source": [
    "9 lines: Opening files "
   ]
  },
  {
   "cell_type": "code",
   "execution_count": 51,
   "metadata": {
    "collapsed": true
   },
   "outputs": [
    {
     "name": "stdout",
     "output_type": "stream",
     "text": [
      "    ------8.py\n",
      "    # This program adds up integers in the command line\n",
      "    import sys\n",
      "    try:\n",
      "        total = sum(int(arg) for arg in sys.argv[1:])\n",
      "        print('sum =', total)\n",
      "    except ValueError:\n",
      "        print('Please supply integer arguments')\n",
      "\n"
     ]
    }
   ],
   "source": [
    "# indent your Python code to put into an email\n",
    "import glob\n",
    "# glob supports Unix style pathname extensions\n",
    "python_files = glob.glob('*.py')\n",
    "for file_name in sorted(python_files):\n",
    "    print('    ------' + file_name)\n",
    "\n",
    "    with open(file_name) as f:\n",
    "        for line in f:\n",
    "            print('    ' + line.rstrip())\n",
    "    print()"
   ]
  },
  {
   "cell_type": "markdown",
   "metadata": {},
   "source": [
    "10 lines: Time, conditionals, from..import, for..else "
   ]
  },
  {
   "cell_type": "code",
   "execution_count": 54,
   "metadata": {
    "collapsed": true
   },
   "outputs": [
    {
     "name": "stdout",
     "output_type": "stream",
     "text": [
      "Unknown, AFK or sleeping!\n"
     ]
    }
   ],
   "source": [
    "from time import localtime\n",
    "\n",
    "activities = {8: 'Sleeping',\n",
    "              9: 'Commuting',\n",
    "              17: 'Working',\n",
    "              18: 'Commuting',\n",
    "              20: 'Eating',\n",
    "              22: 'Resting' }\n",
    "\n",
    "time_now = localtime()\n",
    "hour = time_now.tm_hour\n",
    "\n",
    "for activity_time in sorted(activities.keys()):\n",
    "    if hour < activity_time:\n",
    "        print(activities[activity_time])\n",
    "        break\n",
    "else:\n",
    "    print('Unknown, AFK or sleeping!')"
   ]
  },
  {
   "cell_type": "markdown",
   "metadata": {},
   "source": [
    "11 lines: Triple-quoted strings, while loop "
   ]
  },
  {
   "cell_type": "code",
   "execution_count": 57,
   "metadata": {
    "collapsed": true
   },
   "outputs": [
    {
     "name": "stdout",
     "output_type": "stream",
     "text": [
      "\n",
      "3 bottles of beer on the wall,\n",
      "3 bottles of beer,\n",
      "take one down, pass it around,\n",
      "2 bottles of beer on the wall!\n",
      "\n",
      "\n",
      "2 bottles of beer on the wall,\n",
      "2 bottles of beer,\n",
      "take one down, pass it around,\n",
      "1 bottles of beer on the wall!\n",
      "\n"
     ]
    }
   ],
   "source": [
    "REFRAIN = '''\n",
    "%d bottles of beer on the wall,\n",
    "%d bottles of beer,\n",
    "take one down, pass it around,\n",
    "%d bottles of beer on the wall!\n",
    "'''\n",
    "bottles_of_beer = 3\n",
    "while bottles_of_beer > 1:\n",
    "    print(REFRAIN % (bottles_of_beer, bottles_of_beer,\n",
    "        bottles_of_beer - 1))\n",
    "    bottles_of_beer -= 1"
   ]
  },
  {
   "cell_type": "markdown",
   "metadata": {},
   "source": [
    "12 lines: Classes "
   ]
  },
  {
   "cell_type": "code",
   "execution_count": 74,
   "metadata": {
    "collapsed": true
   },
   "outputs": [
    {
     "name": "stdout",
     "output_type": "stream",
     "text": [
      "10\n"
     ]
    }
   ],
   "source": [
    "class BankAccount(object):\n",
    "    def __init__(self, initial_balance=0):\n",
    "        self.balance = initial_balance\n",
    "    def deposit(self, amount):\n",
    "        self.balance += amount\n",
    "    def withdraw(self, amount):\n",
    "        self.balance -= amount\n",
    "    def overdrawn(self):\n",
    "        return self.balance < 0\n",
    "my_account = BankAccount(15)\n",
    "my_account.withdraw(5)\n",
    "print(my_account.balance)"
   ]
  },
  {
   "cell_type": "markdown",
   "metadata": {},
   "source": [
    "13 lines: Unit testing with unittest"
   ]
  },
  {
   "cell_type": "code",
   "execution_count": null,
   "metadata": {
    "collapsed": false
   },
   "outputs": [],
   "source": [
    "import unittest\n",
    "def median(pool):\n",
    "    copy = sorted(pool)\n",
    "    size = len(copy)\n",
    "    if size % 2 == 1:\n",
    "        return copy[(size - 1) // 2]\n",
    "    else:\n",
    "        return (copy[size//2 - 1] + copy[size//2]) / 2\n",
    "class TestMedian(unittest.TestCase):\n",
    "    def testMedian(self):\n",
    "#        self.failUnlessEqual(median([2, 9, 9, 7, 9, 2, 4, 5, 8]), 7)\n",
    "        self.failUnlessEqual(median([1,2,3, 9, 9]), 3)\n",
    "if __name__ == '__main__':\n",
    "    unittest.main()"
   ]
  },
  {
   "cell_type": "code",
   "execution_count": 67,
   "metadata": {
    "collapsed": true
   },
   "outputs": [
    {
     "name": "stdout",
     "output_type": "stream",
     "text": [
      ".\r\n",
      "----------------------------------------------------------------------\r\n",
      "Ran 1 test in 0.000s\r\n",
      "\r\n",
      "OK\r\n"
     ]
    }
   ],
   "source": [
    "!python3 13.py"
   ]
  },
  {
   "cell_type": "markdown",
   "metadata": {},
   "source": [
    "14 lines: Doctest-based testing "
   ]
  },
  {
   "cell_type": "code",
   "execution_count": 72,
   "metadata": {
    "collapsed": true
   },
   "outputs": [],
   "source": [
    "def median(pool):\n",
    "    '''Statistical median to demonstrate doctest.\n",
    "    >>> median([2, 9, 9, 7, 9, 2, 4, 5, 8])\n",
    "    7\n",
    "    >>> median([1,2, 9])\n",
    "    2\n",
    "    '''\n",
    "    copy = sorted(pool)\n",
    "    size = len(copy)\n",
    "    if size % 2 == 1:\n",
    "        return copy[(size - 1) // 2]\n",
    "    else:\n",
    "        return (copy[size//2 - 1] + copy[size//2]) / 2\n",
    "if __name__ == '__main__':\n",
    "    import doctest\n",
    "    doctest.testmod()"
   ]
  },
  {
   "cell_type": "markdown",
   "metadata": {},
   "source": [
    "15 lines: itertools "
   ]
  },
  {
   "cell_type": "code",
   "execution_count": 75,
   "metadata": {
    "collapsed": false
   },
   "outputs": [
    {
     "name": "stdout",
     "output_type": "stream",
     "text": [
      "This is the first paragraph.\n",
      "This is the second.\n"
     ]
    }
   ],
   "source": [
    "from itertools import groupby\n",
    "lines = '''\n",
    "This is the\n",
    "first paragraph.\n",
    "\n",
    "This is the second.\n",
    "'''.splitlines()\n",
    "# Use itertools.groupby and bool to return groups of\n",
    "# consecutive lines that either have content or don't.\n",
    "for has_chars, frags in groupby(lines, bool):\n",
    "    if has_chars:\n",
    "        print(' '.join(frags))\n",
    "# PRINTS:\n",
    "# This is the first paragraph.\n",
    "# This is the second."
   ]
  },
  {
   "cell_type": "markdown",
   "metadata": {},
   "source": [
    "16 lines: csv module, tuple unpacking, cmp() built-in (???)"
   ]
  },
  {
   "cell_type": "code",
   "execution_count": 81,
   "metadata": {
    "collapsed": false
   },
   "outputs": [],
   "source": [
    "import csv\n",
    "\n",
    "# write stocks data as comma-separated values\n",
    "writer = csv.writer(open('stocks.csv', 'w'))\n",
    "writer.writerows([\n",
    "    ('GOOG', 'Google, Inc.', 505.24, 0.47, 0.09),\n",
    "    ('YHOO', 'Yahoo! Inc.', 27.38, 0.33, 1.22),\n",
    "    ('CNET', 'CNET Networks, Inc.', 8.62, -0.13, -1.49)\n",
    "])\n",
    "\n",
    "# read stocks data, print status messages\n",
    "stocks = csv.reader(open('stocks.csv', 'r'))\n",
    "status_labels = {-1: 'down', 0: 'unchanged', 1: 'up'}\n",
    "for ticker, name, price, change, pct in stocks:\n",
    "    status = status_labels[cmp(float(change), 0.0)]\n",
    "    print('%s is %s (%s%%)' % (name, status, pct))"
   ]
  },
  {
   "cell_type": "code",
   "execution_count": null,
   "metadata": {
    "collapsed": false
   },
   "outputs": [],
   "source": []
  }
 ],
 "metadata": {
  "kernelspec": {
   "display_name": "Python 3",
   "language": "python",
   "name": "python3"
  },
  "language_info": {
   "codemirror_mode": {
    "name": "ipython",
    "version": 3
   },
   "file_extension": ".py",
   "mimetype": "text/x-python",
   "name": "python",
   "nbconvert_exporter": "python",
   "pygments_lexer": "ipython3",
   "version": "3.5.3"
  }
 },
 "nbformat": 4,
 "nbformat_minor": 2
}
